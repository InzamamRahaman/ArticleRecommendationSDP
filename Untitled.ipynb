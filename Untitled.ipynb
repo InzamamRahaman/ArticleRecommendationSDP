{
 "cells": [
  {
   "cell_type": "code",
   "execution_count": 87,
   "metadata": {},
   "outputs": [
    {
     "data": {
      "text/plain": [
       "find_heuristic (generic function with 1 method)"
      ]
     },
     "execution_count": 87,
     "metadata": {},
     "output_type": "execute_result"
    }
   ],
   "source": [
    "include(\"model.jl\")\n"
   ]
  },
  {
   "cell_type": "code",
   "execution_count": 98,
   "metadata": {},
   "outputs": [
    {
     "name": "stderr",
     "output_type": "stream",
     "text": [
      "\u001b[32m\u001b[1m   Updating\u001b[22m\u001b[39m registry at `~/.julia/registries/General`\n",
      "######################################################################### 100.0%\n",
      "\u001b[32m\u001b[1m   Updating\u001b[22m\u001b[39m registry at `~/.julia/registries/JuliaComputingRegistry`\n",
      "\u001b[32m\u001b[1m  Resolving\u001b[22m\u001b[39m package versions...\n",
      "\u001b[32m\u001b[1m  Installed\u001b[22m\u001b[39m CSV ─ v0.8.5\n",
      "\u001b[32m\u001b[1mUpdating\u001b[22m\u001b[39m `~/.julia/environments/JuliaPro_v1.5.3-1/Project.toml`\n",
      " \u001b[90m [336ed68f] \u001b[39m\u001b[92m+ CSV v0.8.5\u001b[39m\n",
      "\u001b[32m\u001b[1mUpdating\u001b[22m\u001b[39m `~/.julia/environments/JuliaPro_v1.5.3-1/Manifest.toml`\n",
      " \u001b[90m [336ed68f] \u001b[39m\u001b[93m↑ CSV v0.8.4 ⇒ v0.8.5\u001b[39m\n",
      "┌ Info: Precompiling CSV [336ed68f-0bac-5ca0-87d4-7b16caf5d00b]\n",
      "└ @ Base loading.jl:1278\n"
     ]
    }
   ],
   "source": [
    "using DataFrames\n",
    "using Pkg\n",
    "Pkg.add(\"CSV\")\n",
    "using CSV"
   ]
  },
  {
   "cell_type": "code",
   "execution_count": 88,
   "metadata": {},
   "outputs": [
    {
     "data": {
      "text/plain": [
       "generate_opinion (generic function with 1 method)"
      ]
     },
     "execution_count": 88,
     "metadata": {},
     "output_type": "execute_result"
    }
   ],
   "source": [
    "function generate_opinion(n::Int64)\n",
    "    s = rand(Bernoulli(0.5), n)\n",
    "    p1 = rand(truncated(Normal(0.5, 0.3), -1.0, 1.0), n)\n",
    "    p2 = rand(truncated(Normal(-0.5, 0.3), -1.0, 1.0), n)\n",
    "    p3 = rand(truncated(Normal(0.0, 0.3), -1.0, 1.0), n)\n",
    "    return s .* p1 + (1 .- s) .* p2\n",
    "end"
   ]
  },
  {
   "cell_type": "code",
   "execution_count": 93,
   "metadata": {},
   "outputs": [
    {
     "data": {
      "text/plain": [
       "0.2"
      ]
     },
     "execution_count": 93,
     "metadata": {},
     "output_type": "execute_result"
    }
   ],
   "source": [
    "T = 5\n",
    "max_T = 8\n",
    "C = Array{Array{Float64,1},1}()\n",
    "for i ∈ 1:max_T\n",
    "    #push!(C, rand(Uniform(-1, 1), 10))\n",
    "    push!(C, generate_opinion(8))\n",
    "end\n",
    "h = 1.0\n",
    "τ = 0.5\n",
    "α = 0.2"
   ]
  },
  {
   "cell_type": "code",
   "execution_count": 95,
   "metadata": {},
   "outputs": [],
   "source": [
    "results = []\n",
    "for T ∈ [5, 6, 7]\n",
    "    for h ∈ -1.0:0.2:1.0 \n",
    "        for τ ∈ 0.2:0.2:1.0 \n",
    "            for α ∈ 0.1:0.1:0.3\n",
    "#                 @show h\n",
    "#                 @show τ\n",
    "#                 @show α\n",
    "#                 @show T\n",
    "                optimal = find_optimal(T, τ, h, C, α, f, g)\n",
    "#                 @show optimal;\n",
    "                d = Dict(\"h\" => h, \"τ\" => τ, \"α\" => α, \"T\" => T, \"optimal\" => optimal)\n",
    "                for (k, v) in heuristics\n",
    "                    bad = find_heuristic(T, τ, h, C, α, f, g, v)\n",
    "                    #println(\"$(k) = $(bad)\")\n",
    "                    d[k] = bad\n",
    "                end   \n",
    "                push!(results, d)\n",
    "            end\n",
    "        end\n",
    "    end\n",
    "end"
   ]
  },
  {
   "cell_type": "code",
   "execution_count": 99,
   "metadata": {},
   "outputs": [
    {
     "data": {
      "text/html": [
       "<table class=\"data-frame\"><thead><tr><th></th><th>T</th><th>benefit_risk_heuristic</th><th>biggest_difference_heuristic</th><th>h</th><th>highest_prob_heuristic</th></tr><tr><th></th><th>Int64</th><th>Float64</th><th>Float64</th><th>Float64</th><th>Float64</th></tr></thead><tbody><p>495 rows × 10 columns (omitted printing of 5 columns)</p><tr><th>1</th><td>5</td><td>8.31708</td><td>9.4827</td><td>-1.0</td><td>9.14201</td></tr><tr><th>2</th><td>5</td><td>8.30541</td><td>9.34807</td><td>-1.0</td><td>9.18446</td></tr><tr><th>3</th><td>5</td><td>8.3217</td><td>9.26072</td><td>-1.0</td><td>9.29587</td></tr><tr><th>4</th><td>5</td><td>7.50196</td><td>9.03675</td><td>-1.0</td><td>8.65549</td></tr><tr><th>5</th><td>5</td><td>7.42455</td><td>8.76953</td><td>-1.0</td><td>8.67047</td></tr><tr><th>6</th><td>5</td><td>7.38692</td><td>8.59435</td><td>-1.0</td><td>8.89139</td></tr><tr><th>7</th><td>5</td><td>7.45634</td><td>8.42027</td><td>-1.0</td><td>7.98297</td></tr><tr><th>8</th><td>5</td><td>7.35912</td><td>7.9966</td><td>-1.0</td><td>8.00545</td></tr><tr><th>9</th><td>5</td><td>7.30706</td><td>7.72866</td><td>-1.0</td><td>8.33685</td></tr><tr><th>10</th><td>5</td><td>3.08579</td><td>7.22635</td><td>-1.0</td><td>7.31023</td></tr><tr><th>11</th><td>5</td><td>5.24305</td><td>6.47189</td><td>-1.0</td><td>7.34023</td></tr><tr><th>12</th><td>5</td><td>5.18789</td><td>5.99148</td><td>-1.0</td><td>7.78213</td></tr><tr><th>13</th><td>5</td><td>0.592178</td><td>5.08532</td><td>-1.0</td><td>6.63728</td></tr><tr><th>14</th><td>5</td><td>0.564982</td><td>3.84802</td><td>-1.0</td><td>6.6748</td></tr><tr><th>15</th><td>5</td><td>0.70242</td><td>3.0697</td><td>-1.0</td><td>7.22722</td></tr><tr><th>16</th><td>5</td><td>5.25244</td><td>6.09387</td><td>-0.8</td><td>6.2361</td></tr><tr><th>17</th><td>5</td><td>5.23489</td><td>5.89304</td><td>-0.8</td><td>6.24953</td></tr><tr><th>18</th><td>5</td><td>5.23812</td><td>5.75456</td><td>-0.8</td><td>6.26331</td></tr><tr><th>19</th><td>5</td><td>5.06696</td><td>5.90068</td><td>-0.8</td><td>6.47135</td></tr><tr><th>20</th><td>5</td><td>4.93007</td><td>5.48907</td><td>-0.8</td><td>6.45624</td></tr><tr><th>21</th><td>5</td><td>4.84171</td><td>5.20945</td><td>-0.8</td><td>6.4403</td></tr><tr><th>22</th><td>5</td><td>4.09208</td><td>5.61475</td><td>-0.8</td><td>6.50705</td></tr><tr><th>23</th><td>5</td><td>3.94773</td><td>4.94619</td><td>-0.8</td><td>6.48439</td></tr><tr><th>24</th><td>5</td><td>3.85923</td><td>4.5035</td><td>-0.8</td><td>6.46048</td></tr><tr><th>25</th><td>5</td><td>1.80539</td><td>5.24072</td><td>-0.8</td><td>6.54276</td></tr><tr><th>26</th><td>5</td><td>2.03115</td><td>4.23591</td><td>-0.8</td><td>6.51255</td></tr><tr><th>27</th><td>5</td><td>2.56099</td><td>3.56833</td><td>-0.8</td><td>6.48066</td></tr><tr><th>28</th><td>5</td><td>0.349877</td><td>4.65751</td><td>-0.8</td><td>6.57849</td></tr><tr><th>29</th><td>5</td><td>0.333679</td><td>3.23806</td><td>-0.8</td><td>6.54072</td></tr><tr><th>30</th><td>5</td><td>0.349221</td><td>2.29709</td><td>-0.8</td><td>6.50086</td></tr><tr><th>&vellip;</th><td>&vellip;</td><td>&vellip;</td><td>&vellip;</td><td>&vellip;</td><td>&vellip;</td></tr></tbody></table>"
      ],
      "text/latex": [
       "\\begin{tabular}{r|cccccc}\n",
       "\t& T & benefit\\_risk\\_heuristic & biggest\\_difference\\_heuristic & h & highest\\_prob\\_heuristic & \\\\\n",
       "\t\\hline\n",
       "\t& Int64 & Float64 & Float64 & Float64 & Float64 & \\\\\n",
       "\t\\hline\n",
       "\t1 & 5 & 8.31708 & 9.4827 & -1.0 & 9.14201 & $\\dots$ \\\\\n",
       "\t2 & 5 & 8.30541 & 9.34807 & -1.0 & 9.18446 & $\\dots$ \\\\\n",
       "\t3 & 5 & 8.3217 & 9.26072 & -1.0 & 9.29587 & $\\dots$ \\\\\n",
       "\t4 & 5 & 7.50196 & 9.03675 & -1.0 & 8.65549 & $\\dots$ \\\\\n",
       "\t5 & 5 & 7.42455 & 8.76953 & -1.0 & 8.67047 & $\\dots$ \\\\\n",
       "\t6 & 5 & 7.38692 & 8.59435 & -1.0 & 8.89139 & $\\dots$ \\\\\n",
       "\t7 & 5 & 7.45634 & 8.42027 & -1.0 & 7.98297 & $\\dots$ \\\\\n",
       "\t8 & 5 & 7.35912 & 7.9966 & -1.0 & 8.00545 & $\\dots$ \\\\\n",
       "\t9 & 5 & 7.30706 & 7.72866 & -1.0 & 8.33685 & $\\dots$ \\\\\n",
       "\t10 & 5 & 3.08579 & 7.22635 & -1.0 & 7.31023 & $\\dots$ \\\\\n",
       "\t11 & 5 & 5.24305 & 6.47189 & -1.0 & 7.34023 & $\\dots$ \\\\\n",
       "\t12 & 5 & 5.18789 & 5.99148 & -1.0 & 7.78213 & $\\dots$ \\\\\n",
       "\t13 & 5 & 0.592178 & 5.08532 & -1.0 & 6.63728 & $\\dots$ \\\\\n",
       "\t14 & 5 & 0.564982 & 3.84802 & -1.0 & 6.6748 & $\\dots$ \\\\\n",
       "\t15 & 5 & 0.70242 & 3.0697 & -1.0 & 7.22722 & $\\dots$ \\\\\n",
       "\t16 & 5 & 5.25244 & 6.09387 & -0.8 & 6.2361 & $\\dots$ \\\\\n",
       "\t17 & 5 & 5.23489 & 5.89304 & -0.8 & 6.24953 & $\\dots$ \\\\\n",
       "\t18 & 5 & 5.23812 & 5.75456 & -0.8 & 6.26331 & $\\dots$ \\\\\n",
       "\t19 & 5 & 5.06696 & 5.90068 & -0.8 & 6.47135 & $\\dots$ \\\\\n",
       "\t20 & 5 & 4.93007 & 5.48907 & -0.8 & 6.45624 & $\\dots$ \\\\\n",
       "\t21 & 5 & 4.84171 & 5.20945 & -0.8 & 6.4403 & $\\dots$ \\\\\n",
       "\t22 & 5 & 4.09208 & 5.61475 & -0.8 & 6.50705 & $\\dots$ \\\\\n",
       "\t23 & 5 & 3.94773 & 4.94619 & -0.8 & 6.48439 & $\\dots$ \\\\\n",
       "\t24 & 5 & 3.85923 & 4.5035 & -0.8 & 6.46048 & $\\dots$ \\\\\n",
       "\t25 & 5 & 1.80539 & 5.24072 & -0.8 & 6.54276 & $\\dots$ \\\\\n",
       "\t26 & 5 & 2.03115 & 4.23591 & -0.8 & 6.51255 & $\\dots$ \\\\\n",
       "\t27 & 5 & 2.56099 & 3.56833 & -0.8 & 6.48066 & $\\dots$ \\\\\n",
       "\t28 & 5 & 0.349877 & 4.65751 & -0.8 & 6.57849 & $\\dots$ \\\\\n",
       "\t29 & 5 & 0.333679 & 3.23806 & -0.8 & 6.54072 & $\\dots$ \\\\\n",
       "\t30 & 5 & 0.349221 & 2.29709 & -0.8 & 6.50086 & $\\dots$ \\\\\n",
       "\t$\\dots$ & $\\dots$ & $\\dots$ & $\\dots$ & $\\dots$ & $\\dots$ &  \\\\\n",
       "\\end{tabular}\n"
      ],
      "text/plain": [
       "\u001b[1m495×10 DataFrame\u001b[0m\n",
       "\u001b[1m Row \u001b[0m│\u001b[1m T     \u001b[0m\u001b[1m benefit_risk_heuristic \u001b[0m\u001b[1m biggest_difference_heuristic \u001b[0m\u001b[1m h       \u001b[0m\u001b[1m h\u001b[0m ⋯\n",
       "\u001b[1m     \u001b[0m│\u001b[90m Int64 \u001b[0m\u001b[90m Float64                \u001b[0m\u001b[90m Float64                      \u001b[0m\u001b[90m Float64 \u001b[0m\u001b[90m F\u001b[0m ⋯\n",
       "─────┼──────────────────────────────────────────────────────────────────────────\n",
       "   1 │     5                8.31708                        9.4827      -1.0    ⋯\n",
       "   2 │     5                8.30541                        9.34807     -1.0\n",
       "   3 │     5                8.3217                         9.26072     -1.0\n",
       "   4 │     5                7.50196                        9.03675     -1.0\n",
       "   5 │     5                7.42455                        8.76953     -1.0    ⋯\n",
       "   6 │     5                7.38692                        8.59435     -1.0\n",
       "   7 │     5                7.45634                        8.42027     -1.0\n",
       "   8 │     5                7.35912                        7.9966      -1.0\n",
       "   9 │     5                7.30706                        7.72866     -1.0    ⋯\n",
       "  10 │     5                3.08579                        7.22635     -1.0\n",
       "  11 │     5                5.24305                        6.47189     -1.0\n",
       "  ⋮  │   ⋮              ⋮                          ⋮                   ⋮       ⋱\n",
       " 486 │     7                6.85151                        7.36021      1.0\n",
       " 487 │     7                5.22317                        7.08063      1.0    ⋯\n",
       " 488 │     7                5.1686                         6.48863      1.0\n",
       " 489 │     7                5.13513                        5.94775      1.0\n",
       " 490 │     7                3.41125                        5.98308      1.0\n",
       " 491 │     7                3.33916                        5.15501      1.0    ⋯\n",
       " 492 │     7                3.29354                        4.4077       1.0\n",
       " 493 │     7                0.473093                       4.52114      1.0\n",
       " 494 │     7                0.424901                       3.34449      1.0\n",
       " 495 │     7                0.617948                       2.31039      1.0    ⋯\n",
       "\u001b[36m                                                  6 columns and 474 rows omitted\u001b[0m"
      ]
     },
     "execution_count": 99,
     "metadata": {},
     "output_type": "execute_result"
    }
   ],
   "source": [
    "df = vcat(DataFrame.(results)...)"
   ]
  },
  {
   "cell_type": "code",
   "execution_count": 101,
   "metadata": {},
   "outputs": [
    {
     "data": {
      "text/plain": [
       "\"output2323.csv\""
      ]
     },
     "execution_count": 101,
     "metadata": {},
     "output_type": "execute_result"
    }
   ],
   "source": [
    "CSV.write(\"output2323.csv\", df)"
   ]
  },
  {
   "cell_type": "code",
   "execution_count": 84,
   "metadata": {},
   "outputs": [
    {
     "name": "stdout",
     "output_type": "stream",
     "text": [
      "optimal = 5.2998729218796905\n"
     ]
    }
   ],
   "source": [
    "optimal = find_optimal(T, τ, h, C, α, f, g)\n",
    "@show optimal;"
   ]
  },
  {
   "cell_type": "code",
   "execution_count": 85,
   "metadata": {},
   "outputs": [
    {
     "name": "stdout",
     "output_type": "stream",
     "text": [
      "least_difference_heuristic = 8.045176333114345\n",
      "biggest_difference_heuristic = 7.966001100129787\n",
      "neutral_heuristic = 5.327090154983782\n",
      "benefit_risk_heuristic = 7.401658890598575\n",
      "highest_prob_heuristic = 8.045176333114345\n"
     ]
    }
   ],
   "source": [
    "for (k, v) in heuristics\n",
    "    bad = find_heuristic(T, τ, h, C, α, f, g, v)\n",
    "    println(\"$(k) = $(bad)\")\n",
    "end\n"
   ]
  },
  {
   "cell_type": "code",
   "execution_count": 7,
   "metadata": {},
   "outputs": [
    {
     "data": {
      "text/plain": [
       "1.0"
      ]
     },
     "execution_count": 7,
     "metadata": {},
     "output_type": "execute_result"
    }
   ],
   "source": [
    "h"
   ]
  },
  {
   "cell_type": "code",
   "execution_count": 69,
   "metadata": {},
   "outputs": [
    {
     "data": {
      "text/plain": [
       "8.429323487235353"
      ]
     },
     "execution_count": 69,
     "metadata": {},
     "output_type": "execute_result"
    }
   ],
   "source": [
    "bad"
   ]
  },
  {
   "cell_type": "code",
   "execution_count": 106,
   "metadata": {},
   "outputs": [
    {
     "data": {
      "text/plain": [
       "0.10438413361169104"
      ]
     },
     "execution_count": 106,
     "metadata": {},
     "output_type": "execute_result"
    }
   ],
   "source": [
    "0.01/9.58 * 100"
   ]
  },
  {
   "cell_type": "code",
   "execution_count": null,
   "metadata": {},
   "outputs": [],
   "source": []
  }
 ],
 "metadata": {
  "kernelspec": {
   "display_name": "Julia 1.5.3",
   "language": "julia",
   "name": "julia-1.5"
  },
  "language_info": {
   "file_extension": ".jl",
   "mimetype": "application/julia",
   "name": "julia",
   "version": "1.5.3"
  }
 },
 "nbformat": 4,
 "nbformat_minor": 4
}
